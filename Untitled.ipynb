{
 "cells": [
  {
   "cell_type": "code",
   "execution_count": 2,
   "metadata": {
    "collapsed": false
   },
   "outputs": [],
   "source": [
    "from __future__ import print_function, division\n",
    "import os\n",
    "import torch\n",
    "import torch.nn as nn\n",
    "import torch.optim as optim\n",
    "import pandas as pd\n",
    "import numpy as np\n",
    "import matplotlib.pyplot as plt\n",
    "from torch.utils.data import Dataset, DataLoader\n",
    "from torchvision import transforms, utils, models\n",
    "from PIL import Image\n",
    "import warnings\n",
    "warnings.filterwarnings(\"ignore\")\n",
    "\n",
    "def set_parameter_requires_grad(model, feature_extracting):\n",
    "    if feature_extracting:\n",
    "        for param in model.parameters():\n",
    "            param.requires_grad = False\n",
    "\n",
    "class LiverDataset(Dataset):\n",
    "    def __init__(self, csv_file, transform = None):\n",
    "        self.liverFrame = pd.read_csv(csv_file)\n",
    "        self.transform = transform\n",
    "    def __len__(self):\n",
    "        return len(self.liverFrame)\n",
    "    def __getitem__(self, idx):\n",
    "        img_name = self.liverFrame['dir'][idx]\n",
    "        image = Image.open(img_name)\n",
    "        if self.transform:\n",
    "            image = self.transform(image)\n",
    "        image = image[:3,:,:]\n",
    "        label = self.liverFrame['label'][idx]\n",
    "        return image,label\n",
    "\n",
    "\n",
    "# \"/Users/srinidhigoud/Desktop/RADAI/data/radai_challenge/train256/images_pngs_noliver\"\n",
    "cwd = os.getcwd()\n",
    "# dir1 = os.path.join(cwd,\"data/radai_challenge/train256/images_pngs_noliver\")\n",
    "# dir2 = os.path.join(cwd,\"data/radai_challenge/train256/images_pngs_liver\")\n",
    "dir1 = \"/scratch/sgm400/RADAI/data/test256/images_pngs\"\n",
    "# dir2 = \"/scratch/sgm400/RADAI/data/train256/images_pngs_liver\"\n",
    "# print(dir1)\n",
    "raw_data = {'dir':[],'label':[]}\n",
    "for filename in os.listdir(dir1):\n",
    "    file = os.path.join(dir1,filename)\n",
    "    if file[-3:] == \"png\":\n",
    "        raw_data['dir'].append(file)\n",
    "        raw_data['label'].append(0)\n",
    "# for filename in os.listdir(dir2):\n",
    "#     file = os.path.join(dir2,filename)\n",
    "#     if file[-3:] == \"png\":\n",
    "#         raw_data['dir'].append(file)\n",
    "#         raw_data['label'].append(1)\n",
    "df = pd.DataFrame(raw_data, columns = ['dir','label'])\n",
    "df.to_csv('testdata.csv')"
   ]
  },
  {
   "cell_type": "code",
   "execution_count": null,
   "metadata": {
    "collapsed": true
   },
   "outputs": [],
   "source": []
  }
 ],
 "metadata": {
  "kernelspec": {
   "display_name": "Python 2",
   "language": "python",
   "name": "python2"
  },
  "language_info": {
   "codemirror_mode": {
    "name": "ipython",
    "version": 2
   },
   "file_extension": ".py",
   "mimetype": "text/x-python",
   "name": "python",
   "nbconvert_exporter": "python",
   "pygments_lexer": "ipython2",
   "version": "2.7.12"
  }
 },
 "nbformat": 4,
 "nbformat_minor": 2
}
